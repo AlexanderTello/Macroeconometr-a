{
 "cells": [
  {
   "cell_type": "markdown",
   "metadata": {},
   "source": [
    "# Trabajo Final - Macroeconomía con Python"
   ]
  },
  {
   "cell_type": "markdown",
   "metadata": {},
   "source": [
    "## Alumno: Alexander Max Tello Fuentes\n",
    "## Código: 20156122"
   ]
  },
  {
   "cell_type": "markdown",
   "metadata": {},
   "source": [
    "## Pregunta 1"
   ]
  },
  {
   "cell_type": "code",
   "execution_count": 14,
   "metadata": {},
   "outputs": [],
   "source": [
    "import numpy as np\n",
    "import pandas as pd\n",
    "from mpl_toolkits.mplot3d import axes3d\n",
    "import matplotlib.pyplot as plt\n",
    "from matplotlib import style\n",
    "%matplotlib inline\n",
    "import statsmodels.api as sm\n",
    "from statsmodels.sandbox.regression.predstd import wls_prediction_std"
   ]
  },
  {
   "cell_type": "code",
   "execution_count": 2,
   "metadata": {},
   "outputs": [
    {
     "name": "stdout",
     "output_type": "stream",
     "text": [
      "      wage  educ  exper  tenure  nonwhite  female  married  northcen  south  \\\n",
      "0     3.10    11      2       0         0       1        0         0      0   \n",
      "1     3.24    12     22       2         0       1        1         0      0   \n",
      "2     3.00    11      2       0         0       0        0         0      0   \n",
      "3     6.00     8     44      28         0       0        1         0      0   \n",
      "4     5.30    12      7       2         0       0        1         0      0   \n",
      "..     ...   ...    ...     ...       ...     ...      ...       ...    ...   \n",
      "395   3.76     6      6       0         0       0        0         0      1   \n",
      "396   3.10     6     14       0         1       1        0         0      1   \n",
      "397   4.29    12     47      25         0       1        1         0      1   \n",
      "398  10.92    12     34       5         0       0        1         0      1   \n",
      "399   7.50    16      6       2         0       1        1         0      1   \n",
      "\n",
      "     west  east  \n",
      "0       1     0  \n",
      "1       1     0  \n",
      "2       1     0  \n",
      "3       1     0  \n",
      "4       1     0  \n",
      "..    ...   ...  \n",
      "395     0     0  \n",
      "396     0     0  \n",
      "397     0     0  \n",
      "398     0     0  \n",
      "399     0     0  \n",
      "\n",
      "[400 rows x 11 columns]\n"
     ]
    }
   ],
   "source": [
    "pd.reset_option('^display.', silent=True)\n",
    "df = pd.read_csv('wages.csv')\n",
    "print (df)"
   ]
  },
  {
   "cell_type": "markdown",
   "metadata": {},
   "source": [
    "Trataremos de explicar los salarios a través de la participación de la educación, la experiencia, la tenencia, el sexo, el estado civil, etc. Para ello realizaremos la regresión de los salarios versus las variables explicativas mencionadas, utilizando Mínimos Cuadrados Restringidos (MCR).\n",
    "\n",
    "a) Desde Cero - Sin restricciones"
   ]
  },
  {
   "cell_type": "code",
   "execution_count": 24,
   "metadata": {},
   "outputs": [
    {
     "name": "stdout",
     "output_type": "stream",
     "text": [
      "0       3.10\n",
      "1       3.24\n",
      "2       3.00\n",
      "3       6.00\n",
      "4       5.30\n",
      "       ...  \n",
      "395     3.76\n",
      "396     3.10\n",
      "397     4.29\n",
      "398    10.92\n",
      "399     7.50\n",
      "Name: wage, Length: 400, dtype: float64\n",
      "[[ 1. 11.  2. ...  0.  1.  0.]\n",
      " [ 1. 12. 22. ...  0.  1.  0.]\n",
      " [ 1. 11.  2. ...  0.  1.  0.]\n",
      " ...\n",
      " [ 1. 12. 47. ...  1.  0.  0.]\n",
      " [ 1. 12. 34. ...  1.  0.  0.]\n",
      " [ 1. 16.  6. ...  1.  0.  0.]]\n"
     ]
    }
   ],
   "source": [
    "Y=df['wage']\n",
    "x=pd.concat([df['educ'],df['exper'],df['tenure'],df['nonwhite'],df['female'],df['married'],df['northcen'],df['south'],df['west'],df['east']],axis=1)\n",
    "X=np.column_stack((np.ones(400), x))\n",
    "print (Y)\n",
    "print (X)"
   ]
  },
  {
   "cell_type": "markdown",
   "metadata": {},
   "source": [
    "Usaremos linalg para calcular los beta. Así, resolvemos la operación p*b=z, donde debemos hallar b que es el vector beta.\n"
   ]
  },
  {
   "cell_type": "code",
   "execution_count": 26,
   "metadata": {},
   "outputs": [
    {
     "name": "stdout",
     "output_type": "stream",
     "text": [
      "[ 10.19095   0.57925   0.02942   0.15504   0.01121  -1.82068   0.36203\n",
      " -12.4235  -12.51717 -10.94049 -11.90172]\n",
      "Verify: \"p b - z = 0\"\n",
      "[ 0.  0. -0.  0.  0.  0.  0.  0.  0.  0. -0.]\n"
     ]
    }
   ],
   "source": [
    "np.set_printoptions(precision=5, suppress=True)\n",
    "p= np.dot(X.T, X)\n",
    "z= np.dot(X.T, Y)\n",
    "b= np.linalg.solve(p,z)\n",
    "print(b)\n",
    "print('Verify: \"p b - z = 0\"')\n",
    "print(np.dot(p,b) - z.T)\n"
   ]
  },
  {
   "cell_type": "markdown",
   "metadata": {},
   "source": [
    "Ahora calculamos los residuos para hallar los errores estándar del b ols.\n",
    "\n",
    "1) Hallamos los residuos U"
   ]
  },
  {
   "cell_type": "code",
   "execution_count": 5,
   "metadata": {},
   "outputs": [
    {
     "name": "stdout",
     "output_type": "stream",
     "text": [
      "0     -0.760366\n",
      "1     -2.460170\n",
      "2     -2.681043\n",
      "3     -3.882226\n",
      "4     -1.779518\n",
      "         ...   \n",
      "395    2.434200\n",
      "396    3.348290\n",
      "397   -4.135001\n",
      "398    4.157649\n",
      "399    1.530268\n",
      "Name: wage, Length: 400, dtype: float64\n"
     ]
    }
   ],
   "source": [
    "U=Y-np.dot(X,b)\n",
    "print(U)"
   ]
  },
  {
   "cell_type": "code",
   "execution_count": 6,
   "metadata": {},
   "outputs": [
    {
     "name": "stdout",
     "output_type": "stream",
     "text": [
      "[[ 5.97681e+14 -9.98205e-02 -1.81010e-03 -2.72796e-02 -1.69203e-01\n",
      "  -1.85045e-01 -1.08091e-02 -5.97681e+14 -5.97681e+14 -5.97681e+14\n",
      "  -5.97681e+14]\n",
      " [-8.56048e-02  3.67950e-03  2.93803e-04 -9.08150e-05  2.73242e-03\n",
      "   1.45185e-03 -3.34014e-03  3.46282e-02  4.55534e-02  4.72920e-02\n",
      "   4.39857e-02]\n",
      " [-1.50009e-02  2.93803e-04  2.03664e-04 -1.68349e-04  3.98861e-05\n",
      "  -6.32697e-05 -1.30226e-03  9.31465e-03  1.04209e-02  1.10022e-02\n",
      "   1.06567e-02]\n",
      " [ 7.46459e-03 -9.08150e-05 -1.68349e-04  6.27343e-04  2.47167e-04\n",
      "   1.05499e-03 -7.58700e-04 -6.35614e-03 -6.04661e-03 -7.51121e-03\n",
      "  -7.40411e-03]\n",
      " [-4.67485e-02  2.73242e-03  3.98861e-05  2.47167e-04  2.58090e-01\n",
      "   2.49002e-03  3.99255e-03 -4.38516e-03 -2.62477e-02 -1.63847e-02\n",
      "  -1.83789e-02]\n",
      " [-1.11976e-01  1.45185e-03 -6.32697e-05  1.05499e-03  2.49002e-03\n",
      "   9.44114e-02  9.69526e-03  3.86265e-02  3.79083e-02  2.40373e-02\n",
      "   3.98020e-02]\n",
      " [ 1.83430e-02 -3.34014e-03 -1.30226e-03 -7.58700e-04  3.99255e-03\n",
      "   9.69526e-03  1.10427e-01 -3.11928e-02 -3.86164e-02 -1.82287e-02\n",
      "  -1.78709e-02]\n",
      " [-5.97681e+14  4.93818e-02 -3.73240e-03  2.79951e-02  1.12417e-01\n",
      "   1.10169e-01  8.00643e-03  5.97681e+14  5.97681e+14  5.97681e+14\n",
      "   5.97681e+14]\n",
      " [-5.97681e+14  5.12860e-02 -3.59962e-03  2.83703e-02  9.75398e-02\n",
      "   1.13537e-01  2.62737e-03  5.97681e+14  5.97681e+14  5.97681e+14\n",
      "   5.97681e+14]\n",
      " [-5.97681e+14  4.91594e-02 -3.59644e-03  2.77347e-02  1.02644e-01\n",
      "   9.95338e-02  8.29448e-03  5.97681e+14  5.97681e+14  5.97681e+14\n",
      "   5.97681e+14]\n",
      " [-5.97681e+14  4.91830e-02 -3.49526e-03  2.74143e-02  1.04046e-01\n",
      "   1.10873e-01  1.37656e-02  5.97681e+14  5.97681e+14  5.97681e+14\n",
      "   5.97681e+14]]\n"
     ]
    }
   ],
   "source": [
    "n=400\n",
    "k=11\n",
    "V=np.dot(np.linalg.inv(p),np.dot(U.T,U))/(n-k-1)\n",
    "print(V)"
   ]
  },
  {
   "cell_type": "markdown",
   "metadata": {},
   "source": [
    "De la matriz V, extraemos la diagonal principal y le aplicamos raíz cuadrada a cada elemento."
   ]
  },
  {
   "cell_type": "code",
   "execution_count": 7,
   "metadata": {},
   "outputs": [
    {
     "name": "stdout",
     "output_type": "stream",
     "text": [
      "[24447507.13095        0.06066        0.01427        0.02505\n",
      "        0.50803        0.30726        0.33231 24447507.13095\n",
      " 24447507.13095 24447507.13095 24447507.13095]\n"
     ]
    }
   ],
   "source": [
    "e=np.diagonal(V)**(1/2)\n",
    "print(e)"
   ]
  },
  {
   "cell_type": "markdown",
   "metadata": {},
   "source": [
    "b) Desde cero: con restricciones"
   ]
  },
  {
   "cell_type": "code",
   "execution_count": 8,
   "metadata": {},
   "outputs": [
    {
     "name": "stdout",
     "output_type": "stream",
     "text": [
      "[[0 0 0 0 0 0 0 1 1 1 1]]\n",
      "[[0]\n",
      " [0]\n",
      " [0]\n",
      " [0]\n",
      " [0]\n",
      " [0]\n",
      " [0]\n",
      " [1]\n",
      " [1]\n",
      " [1]\n",
      " [1]]\n"
     ]
    }
   ],
   "source": [
    "R =np.array([0, 0, 0, 0, 0, 0, 0, 1, 1, 1, 1])[np.newaxis]\n",
    "print(R)\n",
    "print(R.T)"
   ]
  },
  {
   "cell_type": "markdown",
   "metadata": {},
   "source": [
    "Ahora calculamos los \"brls\""
   ]
  },
  {
   "cell_type": "code",
   "execution_count": 9,
   "metadata": {},
   "outputs": [
    {
     "name": "stdout",
     "output_type": "stream",
     "text": [
      "[[-2.67780e+14]\n",
      " [ 1.92048e-02]\n",
      " [ 4.63652e-03]\n",
      " [-3.05985e-03]\n",
      " [-7.32493e-03]\n",
      " [ 1.57230e-02]\n",
      " [-1.18627e-02]\n",
      " [ 2.67780e+14]\n",
      " [ 2.67780e+14]\n",
      " [ 2.67780e+14]\n",
      " [ 2.67780e+14]]\n",
      "[[0.]]\n",
      "[-47.78287]\n"
     ]
    }
   ],
   "source": [
    "init=np.dot(np.linalg.inv(p),R.T)\n",
    "m=np.dot(np.dot(R,np.linalg.inv(p)),R.T)\n",
    "minv=np.linalg.inv(m)\n",
    "r=np.dot(R,b)\n",
    "print(init)\n",
    "print (minv)\n",
    "print (r)"
   ]
  },
  {
   "cell_type": "markdown",
   "metadata": {},
   "source": [
    "brls es el estimador de los mínimos cuadrados restringidos que se estima a continuación:"
   ]
  },
  {
   "cell_type": "code",
   "execution_count": 10,
   "metadata": {},
   "outputs": [
    {
     "name": "stdout",
     "output_type": "stream",
     "text": [
      "[-1.75477  0.57925  0.02942  0.15504  0.01121 -1.82068  0.36203 -0.47778\n",
      " -0.57145  1.00523  0.044  ]\n"
     ]
    }
   ],
   "source": [
    "brls=b+np.dot(np.dot(init, minv),-r) \n",
    "print(brls)"
   ]
  },
  {
   "cell_type": "markdown",
   "metadata": {},
   "source": [
    "Ahora calculamos los residuos para obtener los errores estándar de brls"
   ]
  },
  {
   "cell_type": "code",
   "execution_count": 11,
   "metadata": {},
   "outputs": [
    {
     "name": "stdout",
     "output_type": "stream",
     "text": [
      "0     -0.760366\n",
      "1     -2.460170\n",
      "2     -2.681043\n",
      "3     -3.882226\n",
      "4     -1.779518\n",
      "         ...   \n",
      "395    2.434200\n",
      "396    3.348290\n",
      "397   -4.135001\n",
      "398    4.157649\n",
      "399    1.530268\n",
      "Name: wage, Length: 400, dtype: float64\n"
     ]
    }
   ],
   "source": [
    "urls=Y-np.dot(X,brls)\n",
    "print(urls)"
   ]
  },
  {
   "cell_type": "markdown",
   "metadata": {},
   "source": [
    "Calculamos la matriz de varianzas y covarianzas y extraemos la diagonal"
   ]
  },
  {
   "cell_type": "code",
   "execution_count": 12,
   "metadata": {},
   "outputs": [
    {
     "name": "stdout",
     "output_type": "stream",
     "text": [
      "[[ 0.83916 -0.0502  -0.00543  0.0006  -0.06521 -0.07671 -0.00264  0.06993\n",
      "   0.      -0.06993  0.     ]\n",
      " [-0.04285  0.00369  0.00029 -0.00009  0.00274  0.00146 -0.00335 -0.00826\n",
      "   0.0027   0.00444  0.00112]\n",
      " [-0.00466  0.00029  0.0002  -0.00017  0.00004 -0.00006 -0.00131 -0.00104\n",
      "   0.00007  0.00066  0.00031]\n",
      " [ 0.00064 -0.00009 -0.00017  0.00063  0.00025  0.00106 -0.00076  0.00047\n",
      "   0.00078 -0.00068 -0.00058]\n",
      " [-0.06326  0.00274  0.00004  0.00025  0.25876  0.0025   0.004    0.01199\n",
      "  -0.00992 -0.00004 -0.00204]\n",
      " [-0.07708  0.00146 -0.00006  0.00106  0.0025   0.09466  0.00972  0.00354\n",
      "   0.00282 -0.01108  0.00472]\n",
      " [-0.00816 -0.00335 -0.00131 -0.00076  0.004    0.00972  0.11071 -0.00473\n",
      "  -0.01217  0.00827  0.00863]\n",
      " [ 0.      -0.00037 -0.00013  0.00012  0.00828  0.00164 -0.00017  0.13986\n",
      "   0.      -0.06993  0.     ]\n",
      " [-0.06993  0.00154  0.00001  0.00049 -0.00664  0.00502 -0.00556  0.06993\n",
      "   0.06993 -0.06993  0.     ]\n",
      " [ 0.      -0.00059  0.00001 -0.00014 -0.00152 -0.00902  0.00012  0.\n",
      "   0.       0.13986  0.     ]\n",
      " [-0.06993 -0.00057  0.00011 -0.00047 -0.00012  0.00235  0.00561  0.\n",
      "  -0.06993  0.       0.06993]]\n"
     ]
    }
   ],
   "source": [
    "Vrls=np.dot((np.linalg.inv(p)-np.dot(np.dot(np.dot(init,minv),R),np.linalg.inv(p))),np.dot(urls.T,urls))/(n-k-2)\n",
    "print(Vrls)"
   ]
  },
  {
   "cell_type": "markdown",
   "metadata": {},
   "source": [
    "Calculamos los errores estándar"
   ]
  },
  {
   "cell_type": "code",
   "execution_count": 13,
   "metadata": {},
   "outputs": [
    {
     "name": "stdout",
     "output_type": "stream",
     "text": [
      "[0.91605 0.06074 0.01429 0.02508 0.50868 0.30766 0.33274 0.37398 0.26444\n",
      " 0.37398 0.26444]\n"
     ]
    }
   ],
   "source": [
    "erls=np.diagonal(Vrls)**(1/2)\n",
    "print(erls)"
   ]
  },
  {
   "cell_type": "markdown",
   "metadata": {},
   "source": [
    "C) Statsmodel sin restricciones"
   ]
  },
  {
   "cell_type": "code",
   "execution_count": 15,
   "metadata": {},
   "outputs": [
    {
     "name": "stdout",
     "output_type": "stream",
     "text": [
      "                            OLS Regression Results                            \n",
      "==============================================================================\n",
      "Dep. Variable:                   wage   R-squared:                       0.393\n",
      "Model:                            OLS   Adj. R-squared:                  0.379\n",
      "Method:                 Least Squares   F-statistic:                     28.03\n",
      "Date:                Sun, 23 Aug 2020   Prob (F-statistic):           2.05e-37\n",
      "Time:                        14:53:14   Log-Likelihood:                -999.32\n",
      "No. Observations:                 400   AIC:                             2019.\n",
      "Df Residuals:                     390   BIC:                             2059.\n",
      "Df Model:                           9                                         \n",
      "Covariance Type:            nonrobust                                         \n",
      "==============================================================================\n",
      "                 coef    std err          t      P>|t|      [0.025      0.975]\n",
      "------------------------------------------------------------------------------\n",
      "const         -1.4038      0.711     -1.975      0.049      -2.801      -0.007\n",
      "x1             0.5792      0.061      9.574      0.000       0.460       0.698\n",
      "x2             0.0294      0.014      2.067      0.039       0.001       0.057\n",
      "x3             0.1550      0.025      6.206      0.000       0.106       0.204\n",
      "x4             0.0112      0.507      0.022      0.982      -0.985       1.007\n",
      "x5            -1.8207      0.306     -5.941      0.000      -2.423      -1.218\n",
      "x6             0.3620      0.331      1.092      0.275      -0.290       1.014\n",
      "x7            -0.8287      0.312     -2.659      0.008      -1.442      -0.216\n",
      "x8            -0.9224      0.283     -3.261      0.001      -1.479      -0.366\n",
      "x9             0.6543      0.399      1.638      0.102      -0.131       1.439\n",
      "x10           -0.3070      0.316     -0.972      0.332      -0.928       0.314\n",
      "==============================================================================\n",
      "Omnibus:                      127.493   Durbin-Watson:                   1.809\n",
      "Prob(Omnibus):                  0.000   Jarque-Bera (JB):              430.239\n",
      "Skew:                           1.429   Prob(JB):                     3.76e-94\n",
      "Kurtosis:                       7.201   Cond. No.                     7.00e+16\n",
      "==============================================================================\n",
      "\n",
      "Warnings:\n",
      "[1] Standard Errors assume that the covariance matrix of the errors is correctly specified.\n",
      "[2] The smallest eigenvalue is 4.87e-29. This might indicate that there are\n",
      "strong multicollinearity problems or that the design matrix is singular.\n"
     ]
    }
   ],
   "source": [
    "OLS_model = sm.OLS(Y, X)\n",
    "res = OLS_model.fit()\n",
    "print(res.summary())"
   ]
  },
  {
   "cell_type": "markdown",
   "metadata": {},
   "source": [
    "d) Stats_model constraint: Usaremos por un lado RML y luego GLM ya que ambas tienen la opción de colocar restricciones"
   ]
  },
  {
   "cell_type": "code",
   "execution_count": 16,
   "metadata": {},
   "outputs": [
    {
     "name": "stdout",
     "output_type": "stream",
     "text": [
      "                    Robust linear Model Regression Results                    \n",
      "==============================================================================\n",
      "Dep. Variable:                   wage   No. Observations:                  400\n",
      "Model:                            RLM   Df Residuals:                      390\n",
      "Method:                          IRLS   Df Model:                            9\n",
      "Norm:                          HuberT                                         \n",
      "Scale Est.:                       mad                                         \n",
      "Cov Type:                          H1                                         \n",
      "Date:                Sun, 23 Aug 2020                                         \n",
      "Time:                        14:53:17                                         \n",
      "No. Iterations:                    30                                         \n",
      "==============================================================================\n",
      "                 coef    std err          z      P>|z|      [0.025      0.975]\n",
      "------------------------------------------------------------------------------\n",
      "const         -0.5669      0.559     -1.014      0.311      -1.663       0.529\n",
      "x1             0.4651      0.048      9.769      0.000       0.372       0.558\n",
      "x2             0.0234      0.011      2.091      0.036       0.001       0.045\n",
      "x3             0.1286      0.020      6.540      0.000       0.090       0.167\n",
      "x4             0.2317      0.399      0.581      0.561      -0.550       1.013\n",
      "x5            -1.5099      0.241     -6.260      0.000      -1.983      -1.037\n",
      "x6             0.4178      0.261      1.602      0.109      -0.093       0.929\n",
      "x7            -0.4575      0.245     -1.865      0.062      -0.938       0.023\n",
      "x8            -0.5889      0.223     -2.645      0.008      -1.025      -0.153\n",
      "x9             0.7491      0.314      2.384      0.017       0.133       1.365\n",
      "x10           -0.2696      0.249     -1.085      0.278      -0.757       0.218\n",
      "==============================================================================\n",
      "\n",
      "If the model instance has been used for another fit with different fit parameters, then the fit options might not be the correct ones anymore .\n"
     ]
    }
   ],
   "source": [
    "resRML = sm.RLM(Y, X, constraints='x7+x8+x9+x10=0').fit()\n",
    "print(resRML.summary())"
   ]
  },
  {
   "cell_type": "code",
   "execution_count": 17,
   "metadata": {},
   "outputs": [
    {
     "name": "stdout",
     "output_type": "stream",
     "text": [
      "                 Generalized Linear Model Regression Results                  \n",
      "==============================================================================\n",
      "Dep. Variable:                   wage   No. Observations:                  400\n",
      "Model:                            GLM   Df Residuals:                      391\n",
      "Model Family:                Gaussian   Df Model:                            8\n",
      "Link Function:               identity   Scale:                          8.8821\n",
      "Method:                          IRLS   Log-Likelihood:                -999.32\n",
      "Date:                Sun, 23 Aug 2020   Deviance:                       3464.0\n",
      "Time:                        14:53:43   Pearson chi2:                 3.46e+03\n",
      "No. Iterations:                     1                                         \n",
      "Covariance Type:            nonrobust                                         \n",
      "==============================================================================\n",
      "                 coef    std err          z      P>|z|      [0.025      0.975]\n",
      "------------------------------------------------------------------------------\n",
      "const         -1.7548      0.888     -1.975      0.048      -3.496      -0.014\n",
      "x1             0.5792      0.061      9.574      0.000       0.461       0.698\n",
      "x2             0.0294      0.014      2.067      0.039       0.002       0.057\n",
      "x3             0.1550      0.025      6.206      0.000       0.106       0.204\n",
      "x4             0.0112      0.507      0.022      0.982      -0.982       1.004\n",
      "x5            -1.8207      0.306     -5.941      0.000      -2.421      -1.220\n",
      "x6             0.3620      0.331      1.092      0.275      -0.288       1.012\n",
      "x7            -0.4778      0.257     -1.860      0.063      -0.981       0.026\n",
      "x8            -0.5715      0.246     -2.328      0.020      -1.053      -0.090\n",
      "x9             1.0052      0.340      2.961      0.003       0.340       1.671\n",
      "x10            0.0440      0.262      0.168      0.867      -0.469       0.557\n",
      "==============================================================================\n",
      "\n",
      "Model has been estimated subject to linear equality constraints.\n"
     ]
    }
   ],
   "source": [
    "constraints = ['x7+x8+x9+x10=0']\n",
    "OLS_from_GLM = sm.GLM(Y, X)\n",
    "resGLM = OLS_from_GLM.fit_constrained(constraints)\n",
    "print(resGLM.summary())"
   ]
  },
  {
   "cell_type": "markdown",
   "metadata": {},
   "source": [
    "e) Comparamos las respuestas de a y b"
   ]
  },
  {
   "cell_type": "code",
   "execution_count": 63,
   "metadata": {},
   "outputs": [
    {
     "name": "stdout",
     "output_type": "stream",
     "text": [
      "0       7.430585\n",
      "1       8.598272\n",
      "2       7.430585\n",
      "3       6.928556\n",
      "4       8.156944\n",
      "         ...    \n",
      "395     4.652027\n",
      "396     4.887401\n",
      "397     9.333818\n",
      "398     8.951334\n",
      "399    10.444519\n",
      "Length: 400, dtype: float64\n"
     ]
    }
   ],
   "source": [
    "x1 = df['educ']\n",
    "z1 = df['exper']\n",
    "\n",
    "b1=np.array(b)[np.newaxis]\n",
    "b1=b1[0,1:3][np.newaxis]\n",
    "b1reg=1+x1*b1[0,0]+z1*b1[0,1]\n",
    "\n",
    "print(b1reg)"
   ]
  },
  {
   "cell_type": "code",
   "execution_count": 66,
   "metadata": {},
   "outputs": [
    {
     "ename": "SyntaxError",
     "evalue": "invalid syntax (<ipython-input-66-fcb679abdfca>, line 7)",
     "output_type": "error",
     "traceback": [
      "\u001b[1;36m  File \u001b[1;32m\"<ipython-input-66-fcb679abdfca>\"\u001b[1;36m, line \u001b[1;32m7\u001b[0m\n\u001b[1;33m    ax.plot_surface(x1, z1,b1reg, 'alpha=0.2, cmap='hot')\u001b[0m\n\u001b[1;37m                                                      ^\u001b[0m\n\u001b[1;31mSyntaxError\u001b[0m\u001b[1;31m:\u001b[0m invalid syntax\n"
     ]
    }
   ],
   "source": [
    "x1 = df['educ']\n",
    "z1 = df['exper']\n",
    "\n",
    "fig = plt.figure(figsize=(12,8))\n",
    "ax = fig.add_subplot(111,projection='3d')\n",
    "ax.plot(x1, z1,Y, 'o',label=\"data\")\n",
    "ax.plot_surface(x1, z1,b1reg, 'alpha=0.2, cmap='hot')\n",
    "\n",
    "ax.set_xlabel('Años de educacion')        # Etiqueta del eje X\n",
    "ax.set_ylabel('Años de experiencia')       # Etiqueta del eje Y\n",
    "ax.set_zlabel('Salarios');        # Etiqueta del eje Z (Var. Respuesta)\n"
   ]
  },
  {
   "cell_type": "code",
   "execution_count": null,
   "metadata": {},
   "outputs": [],
   "source": []
  }
 ],
 "metadata": {
  "kernelspec": {
   "display_name": "Python 3",
   "language": "python",
   "name": "python3"
  },
  "language_info": {
   "codemirror_mode": {
    "name": "ipython",
    "version": 3
   },
   "file_extension": ".py",
   "mimetype": "text/x-python",
   "name": "python",
   "nbconvert_exporter": "python",
   "pygments_lexer": "ipython3",
   "version": "3.7.6"
  }
 },
 "nbformat": 4,
 "nbformat_minor": 4
}
